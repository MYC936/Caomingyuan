{
 "cells": [
  {
   "cell_type": "code",
   "execution_count": 112,
   "metadata": {
    "collapsed": true,
    "pycharm": {
     "name": "#%%\n"
    }
   },
   "outputs": [],
   "source": [
    "import pandas as pd\n",
    "import numpy as np\n"
   ]
  },
  {
   "cell_type": "code",
   "execution_count": 113,
   "outputs": [
    {
     "data": {
      "text/plain": "   Duration  Pulse  Maxpulse  Calories\n0        60    110       130     409.1\n1        60    117       145     479.0\n2        60    103       135     340.0\n3        45    109       175     282.4\n4        45    117       148     406.0",
      "text/html": "<div>\n<style scoped>\n    .dataframe tbody tr th:only-of-type {\n        vertical-align: middle;\n    }\n\n    .dataframe tbody tr th {\n        vertical-align: top;\n    }\n\n    .dataframe thead th {\n        text-align: right;\n    }\n</style>\n<table border=\"1\" class=\"dataframe\">\n  <thead>\n    <tr style=\"text-align: right;\">\n      <th></th>\n      <th>Duration</th>\n      <th>Pulse</th>\n      <th>Maxpulse</th>\n      <th>Calories</th>\n    </tr>\n  </thead>\n  <tbody>\n    <tr>\n      <th>0</th>\n      <td>60</td>\n      <td>110</td>\n      <td>130</td>\n      <td>409.1</td>\n    </tr>\n    <tr>\n      <th>1</th>\n      <td>60</td>\n      <td>117</td>\n      <td>145</td>\n      <td>479.0</td>\n    </tr>\n    <tr>\n      <th>2</th>\n      <td>60</td>\n      <td>103</td>\n      <td>135</td>\n      <td>340.0</td>\n    </tr>\n    <tr>\n      <th>3</th>\n      <td>45</td>\n      <td>109</td>\n      <td>175</td>\n      <td>282.4</td>\n    </tr>\n    <tr>\n      <th>4</th>\n      <td>45</td>\n      <td>117</td>\n      <td>148</td>\n      <td>406.0</td>\n    </tr>\n  </tbody>\n</table>\n</div>"
     },
     "execution_count": 113,
     "metadata": {},
     "output_type": "execute_result"
    }
   ],
   "source": [
    "# 1. Read the provided CSV file 'data.csv'.\n",
    "df = pd.read_csv('E:/ucmo/First/BD/data.csv')\n",
    "df.head()"
   ],
   "metadata": {
    "collapsed": false,
    "pycharm": {
     "name": "#%%\n"
    }
   }
  },
  {
   "cell_type": "code",
   "execution_count": 114,
   "outputs": [
    {
     "data": {
      "text/plain": "         Duration       Pulse    Maxpulse     Calories\ncount  169.000000  169.000000  169.000000   164.000000\nmean    63.846154  107.461538  134.047337   375.790244\nstd     42.299949   14.510259   16.450434   266.379919\nmin     15.000000   80.000000  100.000000    50.300000\n25%     45.000000  100.000000  124.000000   250.925000\n50%     60.000000  105.000000  131.000000   318.600000\n75%     60.000000  111.000000  141.000000   387.600000\nmax    300.000000  159.000000  184.000000  1860.400000",
      "text/html": "<div>\n<style scoped>\n    .dataframe tbody tr th:only-of-type {\n        vertical-align: middle;\n    }\n\n    .dataframe tbody tr th {\n        vertical-align: top;\n    }\n\n    .dataframe thead th {\n        text-align: right;\n    }\n</style>\n<table border=\"1\" class=\"dataframe\">\n  <thead>\n    <tr style=\"text-align: right;\">\n      <th></th>\n      <th>Duration</th>\n      <th>Pulse</th>\n      <th>Maxpulse</th>\n      <th>Calories</th>\n    </tr>\n  </thead>\n  <tbody>\n    <tr>\n      <th>count</th>\n      <td>169.000000</td>\n      <td>169.000000</td>\n      <td>169.000000</td>\n      <td>164.000000</td>\n    </tr>\n    <tr>\n      <th>mean</th>\n      <td>63.846154</td>\n      <td>107.461538</td>\n      <td>134.047337</td>\n      <td>375.790244</td>\n    </tr>\n    <tr>\n      <th>std</th>\n      <td>42.299949</td>\n      <td>14.510259</td>\n      <td>16.450434</td>\n      <td>266.379919</td>\n    </tr>\n    <tr>\n      <th>min</th>\n      <td>15.000000</td>\n      <td>80.000000</td>\n      <td>100.000000</td>\n      <td>50.300000</td>\n    </tr>\n    <tr>\n      <th>25%</th>\n      <td>45.000000</td>\n      <td>100.000000</td>\n      <td>124.000000</td>\n      <td>250.925000</td>\n    </tr>\n    <tr>\n      <th>50%</th>\n      <td>60.000000</td>\n      <td>105.000000</td>\n      <td>131.000000</td>\n      <td>318.600000</td>\n    </tr>\n    <tr>\n      <th>75%</th>\n      <td>60.000000</td>\n      <td>111.000000</td>\n      <td>141.000000</td>\n      <td>387.600000</td>\n    </tr>\n    <tr>\n      <th>max</th>\n      <td>300.000000</td>\n      <td>159.000000</td>\n      <td>184.000000</td>\n      <td>1860.400000</td>\n    </tr>\n  </tbody>\n</table>\n</div>"
     },
     "execution_count": 114,
     "metadata": {},
     "output_type": "execute_result"
    }
   ],
   "source": [
    "# 2. Show the basic statistical description about the data.\n",
    "df.describe()"
   ],
   "metadata": {
    "collapsed": false,
    "pycharm": {
     "name": "#%%\n"
    }
   }
  },
  {
   "cell_type": "code",
   "execution_count": 115,
   "outputs": [
    {
     "data": {
      "text/plain": "     Duration  Pulse  Maxpulse  Calories\n0       False  False     False     False\n1       False  False     False     False\n2       False  False     False     False\n3       False  False     False     False\n4       False  False     False     False\n..        ...    ...       ...       ...\n164     False  False     False     False\n165     False  False     False     False\n166     False  False     False     False\n167     False  False     False     False\n168     False  False     False     False\n\n[169 rows x 4 columns]",
      "text/html": "<div>\n<style scoped>\n    .dataframe tbody tr th:only-of-type {\n        vertical-align: middle;\n    }\n\n    .dataframe tbody tr th {\n        vertical-align: top;\n    }\n\n    .dataframe thead th {\n        text-align: right;\n    }\n</style>\n<table border=\"1\" class=\"dataframe\">\n  <thead>\n    <tr style=\"text-align: right;\">\n      <th></th>\n      <th>Duration</th>\n      <th>Pulse</th>\n      <th>Maxpulse</th>\n      <th>Calories</th>\n    </tr>\n  </thead>\n  <tbody>\n    <tr>\n      <th>0</th>\n      <td>False</td>\n      <td>False</td>\n      <td>False</td>\n      <td>False</td>\n    </tr>\n    <tr>\n      <th>1</th>\n      <td>False</td>\n      <td>False</td>\n      <td>False</td>\n      <td>False</td>\n    </tr>\n    <tr>\n      <th>2</th>\n      <td>False</td>\n      <td>False</td>\n      <td>False</td>\n      <td>False</td>\n    </tr>\n    <tr>\n      <th>3</th>\n      <td>False</td>\n      <td>False</td>\n      <td>False</td>\n      <td>False</td>\n    </tr>\n    <tr>\n      <th>4</th>\n      <td>False</td>\n      <td>False</td>\n      <td>False</td>\n      <td>False</td>\n    </tr>\n    <tr>\n      <th>...</th>\n      <td>...</td>\n      <td>...</td>\n      <td>...</td>\n      <td>...</td>\n    </tr>\n    <tr>\n      <th>164</th>\n      <td>False</td>\n      <td>False</td>\n      <td>False</td>\n      <td>False</td>\n    </tr>\n    <tr>\n      <th>165</th>\n      <td>False</td>\n      <td>False</td>\n      <td>False</td>\n      <td>False</td>\n    </tr>\n    <tr>\n      <th>166</th>\n      <td>False</td>\n      <td>False</td>\n      <td>False</td>\n      <td>False</td>\n    </tr>\n    <tr>\n      <th>167</th>\n      <td>False</td>\n      <td>False</td>\n      <td>False</td>\n      <td>False</td>\n    </tr>\n    <tr>\n      <th>168</th>\n      <td>False</td>\n      <td>False</td>\n      <td>False</td>\n      <td>False</td>\n    </tr>\n  </tbody>\n</table>\n<p>169 rows × 4 columns</p>\n</div>"
     },
     "execution_count": 115,
     "metadata": {},
     "output_type": "execute_result"
    }
   ],
   "source": [
    "# 3. Check if the data has null values\n",
    "df.isnull()"
   ],
   "metadata": {
    "collapsed": false,
    "pycharm": {
     "name": "#%%\n"
    }
   }
  },
  {
   "cell_type": "code",
   "execution_count": 116,
   "outputs": [
    {
     "data": {
      "text/plain": "     Duration  Pulse  Maxpulse  Calories\n0          60    110       130     409.1\n1          60    117       145     479.0\n2          60    103       135     340.0\n3          45    109       175     282.4\n4          45    117       148     406.0\n..        ...    ...       ...       ...\n164        60    105       140     290.8\n165        60    110       145     300.0\n166        60    115       145     310.2\n167        75    120       150     320.4\n168        75    125       150     330.4\n\n[169 rows x 4 columns]",
      "text/html": "<div>\n<style scoped>\n    .dataframe tbody tr th:only-of-type {\n        vertical-align: middle;\n    }\n\n    .dataframe tbody tr th {\n        vertical-align: top;\n    }\n\n    .dataframe thead th {\n        text-align: right;\n    }\n</style>\n<table border=\"1\" class=\"dataframe\">\n  <thead>\n    <tr style=\"text-align: right;\">\n      <th></th>\n      <th>Duration</th>\n      <th>Pulse</th>\n      <th>Maxpulse</th>\n      <th>Calories</th>\n    </tr>\n  </thead>\n  <tbody>\n    <tr>\n      <th>0</th>\n      <td>60</td>\n      <td>110</td>\n      <td>130</td>\n      <td>409.1</td>\n    </tr>\n    <tr>\n      <th>1</th>\n      <td>60</td>\n      <td>117</td>\n      <td>145</td>\n      <td>479.0</td>\n    </tr>\n    <tr>\n      <th>2</th>\n      <td>60</td>\n      <td>103</td>\n      <td>135</td>\n      <td>340.0</td>\n    </tr>\n    <tr>\n      <th>3</th>\n      <td>45</td>\n      <td>109</td>\n      <td>175</td>\n      <td>282.4</td>\n    </tr>\n    <tr>\n      <th>4</th>\n      <td>45</td>\n      <td>117</td>\n      <td>148</td>\n      <td>406.0</td>\n    </tr>\n    <tr>\n      <th>...</th>\n      <td>...</td>\n      <td>...</td>\n      <td>...</td>\n      <td>...</td>\n    </tr>\n    <tr>\n      <th>164</th>\n      <td>60</td>\n      <td>105</td>\n      <td>140</td>\n      <td>290.8</td>\n    </tr>\n    <tr>\n      <th>165</th>\n      <td>60</td>\n      <td>110</td>\n      <td>145</td>\n      <td>300.0</td>\n    </tr>\n    <tr>\n      <th>166</th>\n      <td>60</td>\n      <td>115</td>\n      <td>145</td>\n      <td>310.2</td>\n    </tr>\n    <tr>\n      <th>167</th>\n      <td>75</td>\n      <td>120</td>\n      <td>150</td>\n      <td>320.4</td>\n    </tr>\n    <tr>\n      <th>168</th>\n      <td>75</td>\n      <td>125</td>\n      <td>150</td>\n      <td>330.4</td>\n    </tr>\n  </tbody>\n</table>\n<p>169 rows × 4 columns</p>\n</div>"
     },
     "execution_count": 116,
     "metadata": {},
     "output_type": "execute_result"
    }
   ],
   "source": [
    "# a. Replace the null values with the mean\n",
    "df.fillna(df.mean())"
   ],
   "metadata": {
    "collapsed": false,
    "pycharm": {
     "name": "#%%\n"
    }
   }
  },
  {
   "cell_type": "code",
   "execution_count": 117,
   "outputs": [
    {
     "data": {
      "text/plain": "         Duration     Calories\ncount  169.000000   164.000000\nmean    63.846154   375.790244\nstd     42.299949   266.379919\nmin     15.000000    50.300000\n25%     45.000000   250.925000\n50%     60.000000   318.600000\n75%     60.000000   387.600000\nmax    300.000000  1860.400000",
      "text/html": "<div>\n<style scoped>\n    .dataframe tbody tr th:only-of-type {\n        vertical-align: middle;\n    }\n\n    .dataframe tbody tr th {\n        vertical-align: top;\n    }\n\n    .dataframe thead th {\n        text-align: right;\n    }\n</style>\n<table border=\"1\" class=\"dataframe\">\n  <thead>\n    <tr style=\"text-align: right;\">\n      <th></th>\n      <th>Duration</th>\n      <th>Calories</th>\n    </tr>\n  </thead>\n  <tbody>\n    <tr>\n      <th>count</th>\n      <td>169.000000</td>\n      <td>164.000000</td>\n    </tr>\n    <tr>\n      <th>mean</th>\n      <td>63.846154</td>\n      <td>375.790244</td>\n    </tr>\n    <tr>\n      <th>std</th>\n      <td>42.299949</td>\n      <td>266.379919</td>\n    </tr>\n    <tr>\n      <th>min</th>\n      <td>15.000000</td>\n      <td>50.300000</td>\n    </tr>\n    <tr>\n      <th>25%</th>\n      <td>45.000000</td>\n      <td>250.925000</td>\n    </tr>\n    <tr>\n      <th>50%</th>\n      <td>60.000000</td>\n      <td>318.600000</td>\n    </tr>\n    <tr>\n      <th>75%</th>\n      <td>60.000000</td>\n      <td>387.600000</td>\n    </tr>\n    <tr>\n      <th>max</th>\n      <td>300.000000</td>\n      <td>1860.400000</td>\n    </tr>\n  </tbody>\n</table>\n</div>"
     },
     "execution_count": 117,
     "metadata": {},
     "output_type": "execute_result"
    }
   ],
   "source": [
    "# 4. Select at least two columns and aggregate the data using: min, max, count, mean.\n",
    "df1 = df[['Duration', 'Calories']]\n",
    "df1.describe()"
   ],
   "metadata": {
    "collapsed": false,
    "pycharm": {
     "name": "#%%\n"
    }
   }
  },
  {
   "cell_type": "code",
   "execution_count": 118,
   "outputs": [
    {
     "data": {
      "text/plain": "     Duration  Pulse  Maxpulse  Calories\n51         80    123       146     643.1\n62        160    109       135     853.0\n65        180     90       130     800.4\n66        150    105       135     873.4\n67        150    107       130     816.0\n72         90    100       127     700.0\n73        150     97       127     953.2\n75         90     98       125     563.2\n78        120    100       130     500.4\n83        120    100       130     500.0\n90        180    101       127     600.1\n99         90     93       124     604.1\n101        90     90       110     500.0\n102        90     90       100     500.0\n103        90     90       100     500.4\n106       180     90       120     800.3\n108        90     90       120     500.3",
      "text/html": "<div>\n<style scoped>\n    .dataframe tbody tr th:only-of-type {\n        vertical-align: middle;\n    }\n\n    .dataframe tbody tr th {\n        vertical-align: top;\n    }\n\n    .dataframe thead th {\n        text-align: right;\n    }\n</style>\n<table border=\"1\" class=\"dataframe\">\n  <thead>\n    <tr style=\"text-align: right;\">\n      <th></th>\n      <th>Duration</th>\n      <th>Pulse</th>\n      <th>Maxpulse</th>\n      <th>Calories</th>\n    </tr>\n  </thead>\n  <tbody>\n    <tr>\n      <th>51</th>\n      <td>80</td>\n      <td>123</td>\n      <td>146</td>\n      <td>643.1</td>\n    </tr>\n    <tr>\n      <th>62</th>\n      <td>160</td>\n      <td>109</td>\n      <td>135</td>\n      <td>853.0</td>\n    </tr>\n    <tr>\n      <th>65</th>\n      <td>180</td>\n      <td>90</td>\n      <td>130</td>\n      <td>800.4</td>\n    </tr>\n    <tr>\n      <th>66</th>\n      <td>150</td>\n      <td>105</td>\n      <td>135</td>\n      <td>873.4</td>\n    </tr>\n    <tr>\n      <th>67</th>\n      <td>150</td>\n      <td>107</td>\n      <td>130</td>\n      <td>816.0</td>\n    </tr>\n    <tr>\n      <th>72</th>\n      <td>90</td>\n      <td>100</td>\n      <td>127</td>\n      <td>700.0</td>\n    </tr>\n    <tr>\n      <th>73</th>\n      <td>150</td>\n      <td>97</td>\n      <td>127</td>\n      <td>953.2</td>\n    </tr>\n    <tr>\n      <th>75</th>\n      <td>90</td>\n      <td>98</td>\n      <td>125</td>\n      <td>563.2</td>\n    </tr>\n    <tr>\n      <th>78</th>\n      <td>120</td>\n      <td>100</td>\n      <td>130</td>\n      <td>500.4</td>\n    </tr>\n    <tr>\n      <th>83</th>\n      <td>120</td>\n      <td>100</td>\n      <td>130</td>\n      <td>500.0</td>\n    </tr>\n    <tr>\n      <th>90</th>\n      <td>180</td>\n      <td>101</td>\n      <td>127</td>\n      <td>600.1</td>\n    </tr>\n    <tr>\n      <th>99</th>\n      <td>90</td>\n      <td>93</td>\n      <td>124</td>\n      <td>604.1</td>\n    </tr>\n    <tr>\n      <th>101</th>\n      <td>90</td>\n      <td>90</td>\n      <td>110</td>\n      <td>500.0</td>\n    </tr>\n    <tr>\n      <th>102</th>\n      <td>90</td>\n      <td>90</td>\n      <td>100</td>\n      <td>500.0</td>\n    </tr>\n    <tr>\n      <th>103</th>\n      <td>90</td>\n      <td>90</td>\n      <td>100</td>\n      <td>500.4</td>\n    </tr>\n    <tr>\n      <th>106</th>\n      <td>180</td>\n      <td>90</td>\n      <td>120</td>\n      <td>800.3</td>\n    </tr>\n    <tr>\n      <th>108</th>\n      <td>90</td>\n      <td>90</td>\n      <td>120</td>\n      <td>500.3</td>\n    </tr>\n  </tbody>\n</table>\n</div>"
     },
     "execution_count": 118,
     "metadata": {},
     "output_type": "execute_result"
    }
   ],
   "source": [
    "# 5. Filter the dataframe to select the rows with calories values between 500 and 1000.\n",
    "df2 = df[(500<=df[\"Calories\"]) & (df[\"Calories\"]<=1000)]\n",
    "df2"
   ],
   "metadata": {
    "collapsed": false,
    "pycharm": {
     "name": "#%%\n"
    }
   }
  },
  {
   "cell_type": "code",
   "execution_count": 119,
   "outputs": [
    {
     "data": {
      "text/plain": "     Duration  Pulse  Maxpulse  Calories\n0          60    110       130     409.1\n1          60    117       145     479.0\n2          60    103       135     340.0\n3          45    109       175     282.4\n4          45    117       148     406.0\n..        ...    ...       ...       ...\n164        60    105       140     290.8\n165        60    110       145     300.0\n166        60    115       145     310.2\n167        75    120       150     320.4\n168        75    125       150     330.4\n\n[135 rows x 4 columns]",
      "text/html": "<div>\n<style scoped>\n    .dataframe tbody tr th:only-of-type {\n        vertical-align: middle;\n    }\n\n    .dataframe tbody tr th {\n        vertical-align: top;\n    }\n\n    .dataframe thead th {\n        text-align: right;\n    }\n</style>\n<table border=\"1\" class=\"dataframe\">\n  <thead>\n    <tr style=\"text-align: right;\">\n      <th></th>\n      <th>Duration</th>\n      <th>Pulse</th>\n      <th>Maxpulse</th>\n      <th>Calories</th>\n    </tr>\n  </thead>\n  <tbody>\n    <tr>\n      <th>0</th>\n      <td>60</td>\n      <td>110</td>\n      <td>130</td>\n      <td>409.1</td>\n    </tr>\n    <tr>\n      <th>1</th>\n      <td>60</td>\n      <td>117</td>\n      <td>145</td>\n      <td>479.0</td>\n    </tr>\n    <tr>\n      <th>2</th>\n      <td>60</td>\n      <td>103</td>\n      <td>135</td>\n      <td>340.0</td>\n    </tr>\n    <tr>\n      <th>3</th>\n      <td>45</td>\n      <td>109</td>\n      <td>175</td>\n      <td>282.4</td>\n    </tr>\n    <tr>\n      <th>4</th>\n      <td>45</td>\n      <td>117</td>\n      <td>148</td>\n      <td>406.0</td>\n    </tr>\n    <tr>\n      <th>...</th>\n      <td>...</td>\n      <td>...</td>\n      <td>...</td>\n      <td>...</td>\n    </tr>\n    <tr>\n      <th>164</th>\n      <td>60</td>\n      <td>105</td>\n      <td>140</td>\n      <td>290.8</td>\n    </tr>\n    <tr>\n      <th>165</th>\n      <td>60</td>\n      <td>110</td>\n      <td>145</td>\n      <td>300.0</td>\n    </tr>\n    <tr>\n      <th>166</th>\n      <td>60</td>\n      <td>115</td>\n      <td>145</td>\n      <td>310.2</td>\n    </tr>\n    <tr>\n      <th>167</th>\n      <td>75</td>\n      <td>120</td>\n      <td>150</td>\n      <td>320.4</td>\n    </tr>\n    <tr>\n      <th>168</th>\n      <td>75</td>\n      <td>125</td>\n      <td>150</td>\n      <td>330.4</td>\n    </tr>\n  </tbody>\n</table>\n<p>135 rows × 4 columns</p>\n</div>"
     },
     "execution_count": 119,
     "metadata": {},
     "output_type": "execute_result"
    }
   ],
   "source": [
    "# 6. Filter the dataframe to select the rows with calories values > 500 and pulse < 100.\n",
    "df3 = df[(100<df[\"Calories\"]) & (df[\"Calories\"]<500)]\n",
    "df3"
   ],
   "metadata": {
    "collapsed": false,
    "pycharm": {
     "name": "#%%\n"
    }
   }
  },
  {
   "cell_type": "code",
   "execution_count": 120,
   "outputs": [
    {
     "data": {
      "text/plain": "     Duration  Pulse  Calories\n0          60    110     409.1\n1          60    117     479.0\n2          60    103     340.0\n3          45    109     282.4\n4          45    117     406.0\n..        ...    ...       ...\n164        60    105     290.8\n165        60    110     300.0\n166        60    115     310.2\n167        75    120     320.4\n168        75    125     330.4\n\n[169 rows x 3 columns]",
      "text/html": "<div>\n<style scoped>\n    .dataframe tbody tr th:only-of-type {\n        vertical-align: middle;\n    }\n\n    .dataframe tbody tr th {\n        vertical-align: top;\n    }\n\n    .dataframe thead th {\n        text-align: right;\n    }\n</style>\n<table border=\"1\" class=\"dataframe\">\n  <thead>\n    <tr style=\"text-align: right;\">\n      <th></th>\n      <th>Duration</th>\n      <th>Pulse</th>\n      <th>Calories</th>\n    </tr>\n  </thead>\n  <tbody>\n    <tr>\n      <th>0</th>\n      <td>60</td>\n      <td>110</td>\n      <td>409.1</td>\n    </tr>\n    <tr>\n      <th>1</th>\n      <td>60</td>\n      <td>117</td>\n      <td>479.0</td>\n    </tr>\n    <tr>\n      <th>2</th>\n      <td>60</td>\n      <td>103</td>\n      <td>340.0</td>\n    </tr>\n    <tr>\n      <th>3</th>\n      <td>45</td>\n      <td>109</td>\n      <td>282.4</td>\n    </tr>\n    <tr>\n      <th>4</th>\n      <td>45</td>\n      <td>117</td>\n      <td>406.0</td>\n    </tr>\n    <tr>\n      <th>...</th>\n      <td>...</td>\n      <td>...</td>\n      <td>...</td>\n    </tr>\n    <tr>\n      <th>164</th>\n      <td>60</td>\n      <td>105</td>\n      <td>290.8</td>\n    </tr>\n    <tr>\n      <th>165</th>\n      <td>60</td>\n      <td>110</td>\n      <td>300.0</td>\n    </tr>\n    <tr>\n      <th>166</th>\n      <td>60</td>\n      <td>115</td>\n      <td>310.2</td>\n    </tr>\n    <tr>\n      <th>167</th>\n      <td>75</td>\n      <td>120</td>\n      <td>320.4</td>\n    </tr>\n    <tr>\n      <th>168</th>\n      <td>75</td>\n      <td>125</td>\n      <td>330.4</td>\n    </tr>\n  </tbody>\n</table>\n<p>169 rows × 3 columns</p>\n</div>"
     },
     "execution_count": 120,
     "metadata": {},
     "output_type": "execute_result"
    }
   ],
   "source": [
    "# 7. Create a new “df_modified” dataframe that contains all the columns from df except for “Maxpulse”.\n",
    "df_modified = df.drop(columns=['Maxpulse'])\n",
    "df_modified"
   ],
   "metadata": {
    "collapsed": false,
    "pycharm": {
     "name": "#%%\n"
    }
   }
  },
  {
   "cell_type": "code",
   "execution_count": 121,
   "outputs": [
    {
     "data": {
      "text/plain": "     Duration  Pulse  Calories\n0          60    110     409.1\n1          60    117     479.0\n2          60    103     340.0\n3          45    109     282.4\n4          45    117     406.0\n..        ...    ...       ...\n164        60    105     290.8\n165        60    110     300.0\n166        60    115     310.2\n167        75    120     320.4\n168        75    125     330.4\n\n[169 rows x 3 columns]",
      "text/html": "<div>\n<style scoped>\n    .dataframe tbody tr th:only-of-type {\n        vertical-align: middle;\n    }\n\n    .dataframe tbody tr th {\n        vertical-align: top;\n    }\n\n    .dataframe thead th {\n        text-align: right;\n    }\n</style>\n<table border=\"1\" class=\"dataframe\">\n  <thead>\n    <tr style=\"text-align: right;\">\n      <th></th>\n      <th>Duration</th>\n      <th>Pulse</th>\n      <th>Calories</th>\n    </tr>\n  </thead>\n  <tbody>\n    <tr>\n      <th>0</th>\n      <td>60</td>\n      <td>110</td>\n      <td>409.1</td>\n    </tr>\n    <tr>\n      <th>1</th>\n      <td>60</td>\n      <td>117</td>\n      <td>479.0</td>\n    </tr>\n    <tr>\n      <th>2</th>\n      <td>60</td>\n      <td>103</td>\n      <td>340.0</td>\n    </tr>\n    <tr>\n      <th>3</th>\n      <td>45</td>\n      <td>109</td>\n      <td>282.4</td>\n    </tr>\n    <tr>\n      <th>4</th>\n      <td>45</td>\n      <td>117</td>\n      <td>406.0</td>\n    </tr>\n    <tr>\n      <th>...</th>\n      <td>...</td>\n      <td>...</td>\n      <td>...</td>\n    </tr>\n    <tr>\n      <th>164</th>\n      <td>60</td>\n      <td>105</td>\n      <td>290.8</td>\n    </tr>\n    <tr>\n      <th>165</th>\n      <td>60</td>\n      <td>110</td>\n      <td>300.0</td>\n    </tr>\n    <tr>\n      <th>166</th>\n      <td>60</td>\n      <td>115</td>\n      <td>310.2</td>\n    </tr>\n    <tr>\n      <th>167</th>\n      <td>75</td>\n      <td>120</td>\n      <td>320.4</td>\n    </tr>\n    <tr>\n      <th>168</th>\n      <td>75</td>\n      <td>125</td>\n      <td>330.4</td>\n    </tr>\n  </tbody>\n</table>\n<p>169 rows × 3 columns</p>\n</div>"
     },
     "execution_count": 121,
     "metadata": {},
     "output_type": "execute_result"
    }
   ],
   "source": [
    "# 8. Delete the “Maxpulse” column from the main df dataframe.\n",
    "del df[\"Maxpulse\"]\n",
    "df"
   ],
   "metadata": {
    "collapsed": false,
    "pycharm": {
     "name": "#%%\n"
    }
   }
  },
  {
   "cell_type": "code",
   "execution_count": 122,
   "outputs": [
    {
     "data": {
      "text/plain": "300.0    10\n500.0     3\n270.4     2\n225.3     2\n500.4     2\n         ..\n413.0     1\n450.7     1\n238.0     1\n486.0     1\n330.4     1\nName: Calories, Length: 142, dtype: int64"
     },
     "execution_count": 122,
     "metadata": {},
     "output_type": "execute_result"
    }
   ],
   "source": [
    "# 9. Convert the datatype of Calories column to int datatype.\n",
    "df.Calories.value_counts(int())"
   ],
   "metadata": {
    "collapsed": false,
    "pycharm": {
     "name": "#%%\n"
    }
   }
  },
  {
   "cell_type": "code",
   "execution_count": 123,
   "outputs": [
    {
     "data": {
      "text/plain": "<Figure size 640x480 with 1 Axes>",
      "image/png": "[encoded data removed]"
     },
     "metadata": {},
     "output_type": "display_data"
    }
   ],
   "source": [
    "# 10. Using pandas create a scatter plot for the two columns (Duration and Calories).\n",
    "import matplotlib.pyplot as plt\n",
    "plt.scatter(df['Duration'], df['Calories'])\n",
    "plt.xlabel('Duration')\n",
    "plt.ylabel('Calories')\n",
    "plt.show()"
   ],
   "metadata": {
    "collapsed": false,
    "pycharm": {
     "name": "#%%\n"
    }
   }
  },
  {
   "cell_type": "code",
   "execution_count": 123,
   "outputs": [],
   "source": [],
   "metadata": {
    "collapsed": false,
    "pycharm": {
     "name": "#%%\n"
    }
   }
  }
 ],
 "metadata": {
  "kernelspec": {
   "display_name": "Python 3",
   "language": "python",
   "name": "python3"
  },
  "language_info": {
   "codemirror_mode": {
    "name": "ipython",
    "version": 2
   },
   "file_extension": ".py",
   "mimetype": "text/x-python",
   "name": "python",
   "nbconvert_exporter": "python",
   "pygments_lexer": "ipython2",
   "version": "2.7.6"
  }
 },
 "nbformat": 4,
 "nbformat_minor": 0
}