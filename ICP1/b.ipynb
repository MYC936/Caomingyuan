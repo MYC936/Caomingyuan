{
 "cells": [
  {
   "cell_type": "code",
   "execution_count": 11,
   "outputs": [
    {
     "name": "stdout",
     "output_type": "stream",
     "text": [
      "3.0\n"
     ]
    }
   ],
   "source": [
    "a=int(input(\"input the first number:\"))\n",
    "m=input(\"choice +-*/\")\n",
    "b=int(input(\"input the second number:\"))\n",
    "if m=='+':\n",
    "    print(a+b)\n",
    "elif m=='-':\n",
    "    print(a-b)\n",
    "elif m=='*':\n",
    "    print(a*b)\n",
    "elif m=='/':\n",
    "    if b==0:\n",
    "        print('error')\n",
    "    else:\n",
    "        print(a/b)\n",
    "else:print('error')\n"
   ],
   "metadata": {
    "collapsed": false,
    "pycharm": {
     "name": "#%%\n"
    }
   }
  },
  {
   "cell_type": "code",
   "execution_count": null,
   "metadata": {
    "collapsed": true,
    "pycharm": {
     "name": "#%%\n"
    }
   },
   "outputs": [],
   "source": []
  }
 ],
 "metadata": {
  "kernelspec": {
   "display_name": "Python 3",
   "language": "python",
   "name": "python3"
  },
  "language_info": {
   "codemirror_mode": {
    "name": "ipython",
    "version": 2
   },
   "file_extension": ".py",
   "mimetype": "text/x-python",
   "name": "python",
   "nbconvert_exporter": "python",
   "pygments_lexer": "ipython2",
   "version": "2.7.6"
  }
 },
 "nbformat": 4,
 "nbformat_minor": 0
}