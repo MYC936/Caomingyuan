{
 "cells": [
  {
   "cell_type": "code",
   "execution_count": 1,
   "metadata": {
    "collapsed": true,
    "pycharm": {
     "name": "#%%\n"
    }
   },
   "outputs": [
    {
     "name": "stdout",
     "output_type": "stream",
     "text": [
      "Grade: A\n"
     ]
    }
   ],
   "source": [
    "score = int(input(\"Score: \"))\n",
    "if score>=90 and score<=100:\n",
    " print(\"Grade:A\")\n",
    "elif score>=80 and score<90:\n",
    " print(\"Grade:B\")\n",
    "elif score>=70 and score<80:\n",
    " print(\"Grade:C\")\n",
    "elif score>=60 and score<70:\n",
    " print(\"Grade: D\")\n",
    "else:\n",
    " print(\"Grade: F\")\n"
   ]
  }
 ],
 "metadata": {
  "kernelspec": {
   "display_name": "Python 3",
   "language": "python",
   "name": "python3"
  },
  "language_info": {
   "codemirror_mode": {
    "name": "ipython",
    "version": 2
   },
   "file_extension": ".py",
   "mimetype": "text/x-python",
   "name": "python",
   "nbconvert_exporter": "python",
   "pygments_lexer": "ipython2",
   "version": "2.7.6"
  }
 },
 "nbformat": 4,
 "nbformat_minor": 0
}