{
 "cells": [
  {
   "cell_type": "code",
   "execution_count": 53,
   "outputs": [],
   "source": [
    "import numpy as np"
   ],
   "metadata": {
    "collapsed": false,
    "pycharm": {
     "name": "#%%\n"
    }
   }
  },
  {
   "cell_type": "code",
   "execution_count": 54,
   "outputs": [
    {
     "name": "stdout",
     "output_type": "stream",
     "text": [
      "[13  9  2  1 19  2 15 10 10 18 19 15  5 13 10]\n"
     ]
    }
   ],
   "source": [
    "a = np.random.randint(1,20,size=(15)) # Create an array filled with random values\n",
    "print(a)"
   ],
   "metadata": {
    "collapsed": false,
    "pycharm": {
     "name": "#%%\n"
    }
   }
  },
  {
   "cell_type": "code",
   "execution_count": 55,
   "outputs": [
    {
     "name": "stdout",
     "output_type": "stream",
     "text": [
      "[[13  9  2  1 19]\n",
      " [ 2 15 10 10 18]\n",
      " [19 15  5 13 10]]\n"
     ]
    }
   ],
   "source": [
    "a1 = a.reshape(3,5)\n",
    "print(a1)"
   ],
   "metadata": {
    "collapsed": false,
    "pycharm": {
     "name": "#%%\n"
    }
   }
  },
  {
   "cell_type": "code",
   "execution_count": 56,
   "outputs": [
    {
     "name": "stdout",
     "output_type": "stream",
     "text": [
      "[[13  9  2  1  0]\n",
      " [ 2 15 10 10  0]\n",
      " [ 0 15  5 13 10]]\n"
     ]
    }
   ],
   "source": [
    "# Creat a loop search the max in every row\n",
    "for i in range(3):\n",
    "    b=0\n",
    "    c=0\n",
    "    for j in range(5):\n",
    "        if a1[i,j]>b:\n",
    "            b=a1[i,j]\n",
    "            c=j\n",
    "    # Replace the max in each row by 0\n",
    "    a1[i,c]=0\n",
    "print(a1)"
   ],
   "metadata": {
    "collapsed": false,
    "pycharm": {
     "name": "#%%\n"
    }
   }
  },
  {
   "cell_type": "code",
   "execution_count": 56,
   "outputs": [],
   "source": [],
   "metadata": {
    "collapsed": false,
    "pycharm": {
     "name": "#%%\n"
    }
   }
  }
 ],
 "metadata": {
  "kernelspec": {
   "display_name": "Python 3",
   "language": "python",
   "name": "python3"
  },
  "language_info": {
   "codemirror_mode": {
    "name": "ipython",
    "version": 2
   },
   "file_extension": ".py",
   "mimetype": "text/x-python",
   "name": "python",
   "nbconvert_exporter": "python",
   "pygments_lexer": "ipython2",
   "version": "2.7.6"
  }
 },
 "nbformat": 4,
 "nbformat_minor": 0
}