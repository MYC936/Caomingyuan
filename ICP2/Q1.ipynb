{
 "cells": [
  {
   "cell_type": "code",
   "execution_count": 42,
   "outputs": [
    {
     "name": "stdout",
     "output_type": "stream",
     "text": [
      "The min is 19, the max is 26\n"
     ]
    }
   ],
   "source": [
    "ages = [19, 22, 19, 24, 20, 25, 26, 24, 25, 24]\n",
    "# Sort the list and find the min and max age\n",
    "ages.sort()\n",
    "max=ages[-1]\n",
    "min=ages[0]\n",
    "print(\"The min is {}, the max is {}\".format(ages[0],ages[-1]))"
   ],
   "metadata": {
    "collapsed": false,
    "pycharm": {
     "name": "#%%\n"
    }
   }
  },
  {
   "cell_type": "code",
   "execution_count": 38,
   "outputs": [
    {
     "name": "stdout",
     "output_type": "stream",
     "text": [
      "[19, 19, 20, 22, 24, 24, 24, 25, 25, 26, 26, 19]\n"
     ]
    }
   ],
   "source": [
    "# Add the min age and the max age again to the list\n",
    "ages.append(max)\n",
    "ages.append(min)\n",
    "print(ages)\n",
    "\n"
   ],
   "metadata": {
    "collapsed": false,
    "pycharm": {
     "name": "#%%\n"
    }
   }
  },
  {
   "cell_type": "code",
   "execution_count": 40,
   "outputs": [
    {
     "name": "stdout",
     "output_type": "stream",
     "text": [
      "22.75 24.0 7\n"
     ]
    }
   ],
   "source": [
    "from statistics import *\n",
    "# Find the median age (one middle item or two middle items divided by two)\n",
    "# Find the average age (sum of all items divided by their number)\n",
    "# Find the range of the ages (max minus min)\n",
    "median_age = median(ages)\n",
    "mean_age = mean(ages)\n",
    "range_age = max-min\n",
    "print(mean_age,median_age,range_age)"
   ],
   "metadata": {
    "collapsed": false,
    "pycharm": {
     "name": "#%%\n"
    }
   }
  },
  {
   "cell_type": "code",
   "execution_count": null,
   "outputs": [],
   "source": [],
   "metadata": {
    "collapsed": false,
    "pycharm": {
     "name": "#%%\n"
    }
   }
  }
 ],
 "metadata": {
  "kernelspec": {
   "display_name": "Python 3",
   "language": "python",
   "name": "python3"
  },
  "language_info": {
   "codemirror_mode": {
    "name": "ipython",
    "version": 2
   },
   "file_extension": ".py",
   "mimetype": "text/x-python",
   "name": "python",
   "nbconvert_exporter": "python",
   "pygments_lexer": "ipython2",
   "version": "2.7.6"
  }
 },
 "nbformat": 4,
 "nbformat_minor": 0
}