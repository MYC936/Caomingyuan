{
 "cells": [
  {
   "cell_type": "code",
   "execution_count": 52,
   "outputs": [
    {
     "name": "stdout",
     "output_type": "stream",
     "text": [
      "{'name': '1', 'color': '2', 'breed': '3', 'legs': '4', 'age': '5'}\n"
     ]
    }
   ],
   "source": [
    "# Create an empty dictionary called dog\n",
    "# Add name, color, breed, legs, age to the dog dictionary\n",
    "dog={}\n",
    "dog.update({\"name\":\"1\"})\n",
    "dog.update({\"color\":\"2\"})\n",
    "dog.update({\"breed\":\"3\"})\n",
    "dog.update({\"legs\":\"4\"})\n",
    "dog.update({\"age\":\"5\"})\n",
    "print(dog)"
   ],
   "metadata": {
    "collapsed": false,
    "pycharm": {
     "name": "#%%\n"
    }
   }
  },
  {
   "cell_type": "code",
   "execution_count": 53,
   "outputs": [
    {
     "name": "stdout",
     "output_type": "stream",
     "text": [
      "9\n"
     ]
    }
   ],
   "source": [
    "# Create a student dictionary and add first_name, last_name, gender, age, marital status, skills, country, city and address as keys for the dictionary\n",
    "# Get the length of the student dictionary\n",
    "student={\"first_name\":\"1\", \"last_name\":\"2\", \"gender\":\"3\", \"age\":\"4\", \"marital status\":\"5\", \"skills\":[\"6\",\"7\"], \"country\":\"8\", \"city\":\"9\", \"address\":\"10\"}\n",
    "student_len=len(student)\n",
    "print(student_len)"
   ],
   "metadata": {
    "collapsed": false,
    "pycharm": {
     "name": "#%%\n"
    }
   }
  },
  {
   "cell_type": "code",
   "execution_count": 57,
   "outputs": [
    {
     "name": "stdout",
     "output_type": "stream",
     "text": [
      "['6', '7', '11']\n",
      "<class 'list'>\n"
     ]
    }
   ],
   "source": [
    "# Get the value of skills and check the data type, it should be a list\n",
    "student_skills=student[\"skills\"]\n",
    "skills_type = type(student_skills)\n",
    "print(student_skills)\n",
    "print(skills_type)"
   ],
   "metadata": {
    "collapsed": false,
    "pycharm": {
     "name": "#%%\n"
    }
   }
  },
  {
   "cell_type": "code",
   "execution_count": 55,
   "outputs": [
    {
     "name": "stdout",
     "output_type": "stream",
     "text": [
      "['6', '7', '11']\n"
     ]
    }
   ],
   "source": [
    "\n",
    "student[\"skills\"].extend([\"11\"])\n",
    "print(student[\"skills\"])\n"
   ],
   "metadata": {
    "collapsed": false,
    "pycharm": {
     "name": "#%%\n"
    }
   }
  },
  {
   "cell_type": "code",
   "execution_count": 56,
   "outputs": [
    {
     "name": "stdout",
     "output_type": "stream",
     "text": [
      "dict_keys(['first_name', 'last_name', 'gender', 'age', 'marital status', 'skills', 'country', 'city', 'address'])\n",
      "dict_values(['1', '2', '3', '4', '5', ['6', '7', '11'], '8', '9', '10'])\n"
     ]
    }
   ],
   "source": [
    "# Get the dictionary keys as a list\n",
    "# Get the dictionary values as a list\n",
    "print(student.keys())\n",
    "print(student.values())"
   ],
   "metadata": {
    "collapsed": false,
    "pycharm": {
     "name": "#%%\n"
    }
   }
  },
  {
   "cell_type": "code",
   "execution_count": 56,
   "outputs": [],
   "source": [],
   "metadata": {
    "collapsed": false,
    "pycharm": {
     "name": "#%%\n"
    }
   }
  }
 ],
 "metadata": {
  "kernelspec": {
   "display_name": "Python 3",
   "language": "python",
   "name": "python3"
  },
  "language_info": {
   "codemirror_mode": {
    "name": "ipython",
    "version": 2
   },
   "file_extension": ".py",
   "mimetype": "text/x-python",
   "name": "python",
   "nbconvert_exporter": "python",
   "pygments_lexer": "ipython2",
   "version": "2.7.6"
  }
 },
 "nbformat": 4,
 "nbformat_minor": 0
}