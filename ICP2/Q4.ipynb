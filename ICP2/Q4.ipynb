{
 "cells": [
  {
   "cell_type": "code",
   "execution_count": 23,
   "outputs": [
    {
     "name": "stdout",
     "output_type": "stream",
     "text": [
      "Mean Salary: 7000.0\n",
      "Name: a\n",
      "Family: b\n",
      "Salary: 10000\n",
      "Department: pp\n",
      "Name: c\n",
      "Family: d\n",
      "Salary: 5000\n",
      "Department: pp\n",
      "Name: e\n",
      "Family: f\n",
      "Salary: 6000\n",
      "Department: cc\n",
      "Name: g\n",
      "Family: h\n",
      "Salary: 7000\n",
      "Department: cc\n"
     ]
    }
   ],
   "source": [
    "# Create a class Employee and create a constructor to initialize name, family, salary, department\n",
    "class Employee():\n",
    "    # Create a data member to count the number of Employees\n",
    "    employee_num=0\n",
    "    def __init__(self, name, family, salary, department):\n",
    "        self.name = name\n",
    "        self.family = family\n",
    "        self.salary = salary\n",
    "        self.department = department\n",
    "        Employee.employee_num += 1\n",
    "\n",
    "# Create a function to average salary\n",
    "    def mean_salary(self, employee_list):\n",
    "        total_salary = sum(emp.salary for emp in employee_list)\n",
    "        return total_salary / len(employee_list)\n",
    "\n",
    "# Implement other functions of the class\n",
    "    def employee_details(self):\n",
    "        print(\"Name:\", self.name)\n",
    "        print(\"Family:\", self.family)\n",
    "        print(\"Salary:\", self.salary)\n",
    "        print(\"Department:\", self.department)\n",
    "\n",
    "# Creat four employees\n",
    "e1 = Employee(\"a\", \"b\", 10000, \"pp\")\n",
    "e2 = Employee(\"c\", \"d\", 5000, \"pp\")\n",
    "e3 = Employee(\"e\", \"f\", 6000, \"cc\")\n",
    "e4 = Employee(\"g\", \"h\", 7000, \"cc\")\n",
    "employee_list = [e1,e2,e3,e4]\n",
    "\n",
    "# call their member functions\n",
    "mean_salary = e1.mean_salary(employee_list)\n",
    "print(\"Mean Salary:\", mean_salary)\n",
    "e1.employee_details()\n",
    "e2.employee_details()\n",
    "e3.employee_details()\n",
    "e4.employee_details()\n",
    "\n"
   ],
   "metadata": {
    "collapsed": false,
    "pycharm": {
     "name": "#%%\n"
    }
   }
  },
  {
   "cell_type": "code",
   "execution_count": 26,
   "outputs": [
    {
     "name": "stdout",
     "output_type": "stream",
     "text": [
      "Mean Salary: 17000.0\n",
      "Name: a\n",
      "Family: b\n",
      "Salary: 10000\n",
      "Department: pp\n",
      "Name: c\n",
      "Family: d\n",
      "Salary: 5000\n",
      "Department: pp\n",
      "Name: e\n",
      "Family: f\n",
      "Salary: 6000\n",
      "Department: cc\n",
      "Name: g\n",
      "Family: h\n",
      "Salary: 7000\n",
      "Department: cc\n"
     ]
    }
   ],
   "source": [
    "# Create a Fulltime Employee class and it should inherit the properties of Employee class\n",
    "class Fulltime_Employee(Employee):\n",
    "    def __init__(self, name, family, salary, department):\n",
    "        super().__init__(name, family, salary, department)\n",
    "\n",
    "# Creat four employees\n",
    "fe1 = Employee(\"q\", \"t\", 20000, \"tt\")\n",
    "fe2 = Employee(\"w\", \"y\", 15000, \"tt\")\n",
    "fe3 = Employee(\"e\", \"u\", 16000, \"uu\")\n",
    "fe4 = Employee(\"r\", \"i\", 17000, \"uu\")\n",
    "employee_list = [fe1,fe2,fe3,fe4]\n",
    "\n",
    "# call their member functions\n",
    "mean_salary = e1.mean_salary(employee_list)\n",
    "print(\"Mean Salary:\", mean_salary)\n",
    "e1.employee_details()\n",
    "e2.employee_details()\n",
    "e3.employee_details()\n",
    "e4.employee_details()"
   ],
   "metadata": {
    "collapsed": false,
    "pycharm": {
     "name": "#%%\n"
    }
   }
  },
  {
   "cell_type": "code",
   "execution_count": null,
   "outputs": [],
   "source": [],
   "metadata": {
    "collapsed": false,
    "pycharm": {
     "name": "#%%\n"
    }
   }
  },
  {
   "cell_type": "code",
   "execution_count": null,
   "metadata": {
    "collapsed": true,
    "pycharm": {
     "name": "#%%\n"
    }
   },
   "outputs": [],
   "source": []
  }
 ],
 "metadata": {
  "kernelspec": {
   "display_name": "Python 3",
   "language": "python",
   "name": "python3"
  },
  "language_info": {
   "codemirror_mode": {
    "name": "ipython",
    "version": 2
   },
   "file_extension": ".py",
   "mimetype": "text/x-python",
   "name": "python",
   "nbconvert_exporter": "python",
   "pygments_lexer": "ipython2",
   "version": "2.7.6"
  }
 },
 "nbformat": 4,
 "nbformat_minor": 0
}